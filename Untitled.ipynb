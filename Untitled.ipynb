{
 "cells": [
  {
   "cell_type": "code",
   "execution_count": 1,
   "metadata": {
    "collapsed": true
   },
   "outputs": [],
   "source": [
    "%matplotlib notebook\n",
    "\n",
    "import os\n",
    "import glob\n",
    "import numpy as np\n",
    "import matplotlib.pyplot as plt\n",
    "import astropy.io.fits as pf\n",
    "import subprocess\n",
    "import shutil"
   ]
  },
  {
   "cell_type": "code",
   "execution_count": 2,
   "metadata": {
    "collapsed": false
   },
   "outputs": [],
   "source": [
    "field = 'Goodss/'\n",
    "way  = 'tweak_cosmos_v4/'\n",
    "name = 'eazy_v1.1_sed'\n",
    "name_cat = 'goodss_3dhst.v4.1.cat'\n",
    "\n",
    "# Load all model spectra and main catalog\n",
    "list =  glob.glob(way + 'eazy*.dat')\n",
    "main_cat = np.genfromtxt(name_cat, skip_header=2) \n",
    "#main_cat = np.genfromtxt(field + name_cat, skip_header=2) \n",
    "\n",
    "# Load transmission curves from fortran code by AKI\n",
    "#mar = np.genfromtxt('scor01.txt')\n",
    "#z_tr = mar[:,2]\n",
    "#lam_tr = mar[:,1]\n",
    "#tra_f =  mar[:,0]"
   ]
  },
  {
   "cell_type": "code",
   "execution_count": 3,
   "metadata": {
    "collapsed": true
   },
   "outputs": [],
   "source": [
    "# Работа с архивом данных, остаются только те, номера которых указаны в filtr\n",
    "def find(cat, name, filtr):\n",
    "    with open(cat, 'r') as f:\n",
    "        with open(name, 'w') as y:\n",
    "            lines = f.readlines()\n",
    "\n",
    "            for i, line in enumerate(lines):\n",
    "                if i <= 1:\n",
    "                    y.write(line)\n",
    "                for j in range(len(filtr)):\n",
    "                    if i == filtr[j] + 2:\n",
    "                        y.write(line)\n",
    "    print('END')\n"
   ]
  },
  {
   "cell_type": "code",
   "execution_count": 4,
   "metadata": {
    "collapsed": true
   },
   "outputs": [],
   "source": [
    "# The function of shifting the wavelength and modification amplitude of the flux\n",
    "def func_1(z, x, y):\n",
    "    l_mod  = (1+z) * x\n",
    "    mod_flux = y\n",
    "    return l_mod, mod_flux"
   ]
  },
  {
   "cell_type": "code",
   "execution_count": 5,
   "metadata": {
    "collapsed": false
   },
   "outputs": [],
   "source": [
    "from scipy import interpolate\n",
    "global cof\n",
    "\n",
    "table = np.loadtxt('table_transmition_ISM.dat')\n",
    "lam_rest   = table[1:,0]\n",
    "z          = table[0, 1:]\n",
    "trans_coef = table[1:, 1:]\n",
    "cof = interpolate.interp2d(z, lam_rest, trans_coef)"
   ]
  },
  {
   "cell_type": "code",
   "execution_count": 6,
   "metadata": {
    "collapsed": false
   },
   "outputs": [
    {
     "name": "stdout",
     "output_type": "stream",
     "text": [
      "[ 0.961894]\n",
      "[ 0.876239]\n",
      "[ 0.682336]\n",
      "[ 0.418254]\n",
      "[ 0.160245]\n",
      "[ 0.0140328]\n",
      "[ 0.0001389]\n",
      "[  4.29528000e-08]\n",
      "[  7.17508000e-14]\n"
     ]
    }
   ],
   "source": [
    "for i in range(1, 10, 1):\n",
    "    print(cof(i, 1200))"
   ]
  },
  {
   "cell_type": "code",
   "execution_count": 7,
   "metadata": {
    "collapsed": false
   },
   "outputs": [],
   "source": [
    "# A function that takes into account the transmission curves and response function from each filter\n",
    "def chi2(z, lcii, x, y, fil, filty, fil_inf, fil_name, hyt, toplot=False):\n",
    "   \n",
    "    moh = np.zeros(len(x))\n",
    "\n",
    "    # Add absorption for object\n",
    "    ging = []\n",
    "    for i in range (len(x)): \n",
    "        moh[i] =  cof(z, x[i]) * y[i] \n",
    "        ging.append(cof(z, x[i]))\n",
    "    \n",
    "    \n",
    "    # Find the template corresponding to our z\n",
    "    l_obs2, sp_ext = func_1(z, x, moh)\n",
    "\n",
    "    # Sorting\n",
    "    l_obs2 = np.array(l_obs2)\n",
    "    lcii = np.array(lcii)\n",
    "        \n",
    "    sp_ext = sp_ext[np.argsort(l_obs2)]\n",
    "    l_obs2 = l_obs2[np.argsort(l_obs2)]\n",
    "    \n",
    "    \n",
    "    \"\"\"\n",
    "    #fOR evgenii\n",
    "    res1, n1 = get_filter_by_id(1, filty, fil_inf, fil_name)\n",
    "    res2, n2 = get_filter_by_id(4, filty, fil_inf, fil_name) \n",
    "    res3, n3 = get_filter_by_id(5, filty, fil_inf, fil_name) \n",
    "    res4, n4 = get_filter_by_id(7, filty, fil_inf, fil_name) \n",
    "    res5, n5 = get_filter_by_id(18, filty, fil_inf, fil_name) \n",
    "    res6, n6 = get_filter_by_id(19, filty, fil_inf, fil_name) \n",
    "    res7, n7 = get_filter_by_id(36, filty, fil_inf, fil_name) \n",
    "    res8, n8 = get_filter_by_id(21, filty, fil_inf, fil_name) \n",
    "    res9, n9 = get_filter_by_id(34, filty, fil_inf, fil_name) \n",
    "    \n",
    "    x1_res = res1[:, 1]\n",
    "    y1_res = res1[:, 2]\n",
    "    x2_res = res2[:, 1]\n",
    "    y2_res = res2[:, 2]\n",
    "    x3_res = res3[:, 1]\n",
    "    y3_res = res3[:, 2]\n",
    "    x4_res = res4[:, 1]\n",
    "    y4_res = res4[:, 2]\n",
    "    x5_res = res5[:, 1]\n",
    "    y5_res = res5[:, 2]\n",
    "    x6_res = res6[:, 1]\n",
    "    y6_res = res6[:, 2]\n",
    "    x7_res = res7[:, 1]\n",
    "    y7_res = res7[:, 2]\n",
    "    x8_res = res8[:, 1]\n",
    "    y8_res = res8[:, 2]\n",
    "    x9_res = res9[:, 1]\n",
    "    y9_res = res9[:, 2]\n",
    "    \n",
    "    plt.figure()\n",
    "    plt.plot(l_obs2, y,  color = \"red\" )\n",
    "    plt.plot(l_obs2, sp_ext,  color = \"blue\"  )\n",
    "    plt.plot(x, ging, color = \"yellow\" )\n",
    "    plt.plot(x1_res, y1_res*0.5, color = \"black\" )\n",
    "    plt.plot(x2_res, y2_res*0.5, color = \"black\" )\n",
    "    plt.plot(x3_res, y3_res*0.5, color = \"black\" )\n",
    "    plt.plot(x4_res, y4_res*0.5, color = \"black\" )\n",
    "    plt.plot(x5_res, y5_res*0.5, color = \"black\" )\n",
    "    plt.plot(x6_res, y6_res*0.5, color = \"black\" )\n",
    "    plt.plot(x7_res, y7_res*0.5, color = \"black\" )\n",
    "    plt.plot(x8_res, y8_res*0.5, color = \"black\" )\n",
    "    plt.plot(x9_res, y9_res*0.5, color = \"black\" )\n",
    "    plt.plot(lcii, hyt/1000,\"^\", color = \"green\")\n",
    "    \n",
    "    plt.title(str(z))\n",
    "    plt.xlim(900, 150000)\n",
    "    plt.ylim(0, 20)\n",
    "    plt.xscale(\"log\")\n",
    "    plt.savefig(str(z)+ \".pdf\", format = \"pdf\")\n",
    "    \"\"\"\n",
    "    \n",
    "    fit = []    \n",
    "    # Add response function for all filters\n",
    "    for i in range(len(fil)):\n",
    "        num = 0\n",
    "        spectr = sp_ext.copy()\n",
    "        \n",
    "        res, n = get_filter_by_id(fil[i], filty, fil_inf, fil_name)\n",
    "        \n",
    "        # Load lambda and flux from response function\n",
    "        x_res  = res[:, 1]\n",
    "        y_res  = res[:, 2]\n",
    "        \n",
    "        x_filt = np.array(x_res)\n",
    "        y_filt = np.array(y_res)\n",
    "        \n",
    "        lim1   = np.min(x_res)\n",
    "        lim2   = np.max(x_res)\n",
    "        \n",
    "        # Load template lambda\n",
    "        xx_tem = l_obs2[np.where((l_obs2 >= lim1) & (l_obs2 <= lim2))[0]]\n",
    "       \n",
    "        \n",
    "        filt_int  = np.interp(xx_tem, x_filt, y_filt) \n",
    "        #print(filt_int)\n",
    "        \n",
    "        num = ((1+z)) * np.trapz(spectr[np.where((l_obs2 >= lim1) & (l_obs2 <= lim2))[0]]*filt_int, xx_tem)/(np.trapz(filt_int, xx_tem))  \n",
    "        \n",
    "        fit.append(num)\n",
    "        \n",
    "        #print(\"filter\", n)\n",
    "     \n",
    "\n",
    "    return fit"
   ]
  },
  {
   "cell_type": "code",
   "execution_count": 8,
   "metadata": {
    "collapsed": true
   },
   "outputs": [],
   "source": [
    "def hst_flux(id):\n",
    "    # The column numbers of the flux in the main catalog\n",
    "    num_fc  = np.array(([18, 30, 39, 48, 75, 78, 81, 84, 57, 66, \\\n",
    "                     72, 21, 24, 36, 42, 15, 12, 87, 89, 91, \\\n",
    "                     93, 95, 97, 99, 101, 103, 105, 107, 109, 111, \\\n",
    "                     113, 54, 63, 9, 60, 69, 27, 45, 51, 33]))\n",
    "\n",
    "\n",
    "    # The column numbers of the errors in the main catalog\n",
    "    num_efc = np.array(([19, 31, 40, 49, 76, 79, 82, 85, 58, 67, \\\n",
    "                     73, 22, 25, 37, 43, 16, 13, 88, 90, 92,  \\\n",
    "                     94, 96, 98, 100, 102, 104, 106, 108, 110, 112, \\\n",
    "                     114, 55, 64, 10, 61, 70, 28, 46, 52, 34]))\n",
    "\n",
    "    # Name of filters\n",
    "    fil_cat = ['F435', 'F606W', 'F775W', 'F850LP', 'IRAC1', 'IRAC2', 'IRAC3', 'IRAC4', 'J', 'H', \\\n",
    "               'Ks', 'B', 'V', 'Rc',  'I', 'U', 'U38', 'IA427', 'IA445', 'IA505', 'IA527', 'IA550', \\\n",
    "               'IA574', 'IA598', 'IA624', 'IA651', 'IA679', 'IA738', 'IA767', 'IA797', 'IA856', 'F125W', \\\n",
    "               'F140W', 'F160W', 'tenisJ',  'tenisK', 'F606cand',  'F814Wcand', 'F850LPcand', 'R' ]\n",
    "\n",
    "\n",
    "    # Central wavelengths of filters\n",
    "    lambd = np.array(([0.4318, 0.5919, 0.7693, 0.9036, 3.5569, 4.5020, 5.7450, 7.9158, 1.2356, 1.6496, \\\n",
    "                       2.1667, 0.4563, 0.5396, 0.6517, 0.7838, 0.3750, 0.3637, 0.4260, 0.4443, 0.5061, \\\n",
    "                       0.5259, 0.5495, 0.5763, 0.6007, 0.6231, 0.6498, 0.6782, 0.7359, 0.7680, 0.7966,\\\n",
    "                       0.8565, 1.2471, 1.3924, 1.5396, 1.2530, 2.1574, 0.5921, 0.8057, 0.9033, 0.6443\n",
    "                      ]))\n",
    "    \n",
    "    # Spectrum from the catalog HST\n",
    "    flux_c = []\n",
    "    erflu_c = []\n",
    "    filt = []\n",
    "\n",
    "    for j in range(len(num_fc)):\n",
    "        for i in range(len(main_cat[0, :])):\n",
    "            if (i == num_fc[j]) & (main_cat[id - 1, i] > 0):\n",
    "                flux_c.append(main_cat[id - 1, i])\n",
    "                erflu_c.append(main_cat[id - 1, int(num_efc[j])])\n",
    "                filt.append(j)\n",
    "                \n",
    "    # Translate the wavelength into angstroms\n",
    "    lci = lambd[filt] * 10 ** 4\n",
    "\n",
    "    # Reproduce to a good type\n",
    "    flux_c = np.array(flux_c)\n",
    "    erflu_c = np.array(erflu_c)\n",
    "\n",
    "    # Translate the flow into nano Jansky\n",
    "    flux_c = [flux_c[i] * 10 ** (2.56) for i in range(len(flux_c))]\n",
    "    erflu_c = [erflu_c[i] * 10**(2.56) for i in range(len(erflu_c))]\n",
    "\n",
    "    # Reproduce to a good type again\n",
    "    flux_c = np.array(flux_c)\n",
    "    erflu_c = np.array(erflu_c)\n",
    "    \n",
    "    \n",
    "    return lci, flux_c, erflu_c, filt"
   ]
  },
  {
   "cell_type": "code",
   "execution_count": 9,
   "metadata": {
    "collapsed": true
   },
   "outputs": [],
   "source": [
    "def filt_f():\n",
    "    #fname = field + 'Eazy/' + 'goodss_3dhst.v4.1.translate'\n",
    "    fname = 'goodss_3dhst.v4.1.translate'\n",
    "    filt_list = np.genfromtxt(fname, dtype=None)\n",
    "\n",
    "\n",
    "    fil = []\n",
    "    num_fil = []\n",
    "    for i, j in zip(filt_list[:, 1], np.linspace(0, 87, 88)):\n",
    "        if j % 2 == 0:\n",
    "            num_fil.append(np.array(i[1:]).astype(int))\n",
    "            # print(np.array(i[1:]).astype(int))\n",
    "\n",
    "\n",
    "    for i, j in zip(filt_list[:, 0], np.linspace(0, 87, 88)):\n",
    "        if j % 2 == 0:\n",
    "            fil.append(np.array(i[2:]).astype(str))\n",
    "\n",
    "\n",
    "    num_fil = np.array(num_fil)\n",
    "    fil = np.array(fil)\n",
    "\n",
    "    # Filters and their numbers\n",
    "    fil = fil[np.argsort(num_fil)]\n",
    "    num_fil = num_fil[np.argsort(num_fil)]\n",
    "\n",
    "    # Delete filters that are not in the article\n",
    "    hi = [19, 20, 29, 33]\n",
    "    num_fil = np.delete(num_fil, hi)\n",
    "    fil = np.delete(fil, hi)\n",
    "    #-------------------------\n",
    "    \n",
    "    filters_info = []\n",
    "    for line in open( 'FILTER.RES.latest.info', 'r'):\n",
    "        filters_info.append(np.array(line.split()))\n",
    "    filters_info = np.array(filters_info)\n",
    "    #--------------------------\n",
    "    \n",
    "    temp_filters = open('FILTER.RES.latest', 'r')\n",
    "    filters = []\n",
    "    filters_names = []\n",
    "    first = True\n",
    "\n",
    "    l = 0\n",
    "    for line in temp_filters:\n",
    "\n",
    "        if line[0] == ' ':\n",
    "\n",
    "            if not first:\n",
    "                filters.append(np.array(temp))\n",
    "                l += 1\n",
    "\n",
    "            first = False\n",
    "            filters_names.append(line.split())\n",
    "            temp = []\n",
    "\n",
    "        else:\n",
    "            temp.append(np.array(line.split()).astype('float'))\n",
    "    \n",
    "    # filters - include response function for each filter\n",
    "    # filters_name - include all filters name\n",
    "\n",
    "    filters = np.array(filters)\n",
    "    filters_names = np.array(filters_names)\n",
    "    \n",
    "    return num_fil, filters, filters_info, filters_names\n",
    "    \n",
    "    \n",
    "# It return name and response function for each filter by id in num_fil\n",
    "def get_filter_by_id(idi,filtt, filters_info, filters_names):\n",
    "    temp = np.array([a[0] for a in filters_info]).astype(int)\n",
    "    name = filters_info[np.where(temp == idi)[0][0]][1]\n",
    "    names = np.array([a[1] for a in filters_names])\n",
    "    lam =  np.array([a[4] for a in filters_info[np.where(name == names)[0]]])\n",
    "    ress = filtt[np.where(name == names)[0][0]]\n",
    "   \n",
    "    return ress, name"
   ]
  },
  {
   "cell_type": "code",
   "execution_count": 145,
   "metadata": {
    "collapsed": true
   },
   "outputs": [],
   "source": [
    "def get_z(id):\n",
    "    \n",
    "    \n",
    "    lci, flux_c, erflu_c, filt = hst_flux(id)\n",
    "    num_fill, filters, filters_info, filters_names  = filt_f()\n",
    "    \n",
    "    # Take for response function only those filters which have flux in data\n",
    "    num_fill = num_fill[filt]\n",
    "    \n",
    "    z_list = np.arange(1, 10, 0.2)\n",
    "    L2 = np.ones((len(z_list)), )\n",
    "    \n",
    "    \n",
    "    # Template wavelengths and fluxes\n",
    "    x = np.genfromtxt(list[k])[:, 0]\n",
    "    y = np.genfromtxt(list[k])[:, 1]\n",
    "    \n",
    "    for i in range(len(z_list)):\n",
    "    \n",
    "        plt.close()\n",
    "        l1 = []\n",
    "        n=0\n",
    "        fitz = chi2(z_list[i], lci, x, y, num_fill, filters, filters_info, filters_names, flux_c)\n",
    "\n",
    "        \n",
    "        \n",
    "        a = np.sum(np.array(fitz)**2 / erflu_c**2)\n",
    "        b = -2*np.sum(flux_c*np.array(fitz)/ erflu_c**2)    \n",
    "        c = np.sum(flux_c**2/erflu_c**2)\n",
    "\n",
    "        n = -b/(2*a)\n",
    "        for j in range(len(fitz)):\n",
    "              l1.append( (flux_c[j] - n*np.array(fitz)[j])** 2 / (np.array(erflu_c)[j] ** 2) )\n",
    "        L2[i] = np.sum(l1) \n",
    "        \n",
    "       \n",
    "        '''\n",
    "        if (z_list[i]==3)  or (z_list[i]==9): \n",
    "            print(\"yes\")\n",
    "            fig = plt.figure(i + 999)\n",
    "            ax2 = fig.add_subplot(1,1,1)\n",
    "            ax2.errorbar(lci, flux_c, fmt = 'o', label='Observed fluxes',markersize='5', elinewidth=1,yerr = erflu_c)\n",
    "            ax2.plot(lci, n*np.array(fitz),  \"*\", color='magenta', label =  'FIT')\n",
    "            plt.legend(loc='lower right')\n",
    "            plt.title(\"Right, Z = 3.6\" )\n",
    "            plt.ylim(0,2200)\n",
    "            plt.savefig(str(id)+\"-\"+ str(z_list[i])+\".pdf\", format=\"pdf\")\n",
    "            \n",
    "            print(\"data\", min(flux_c), max(flux_c))\n",
    "            print(\"template\", min(fitz), max(fitz))\n",
    "            print(n)\n",
    "            print(\"\")\n",
    "            print(\"\")\n",
    "        '''\n",
    "    redsh = z_list[np.argmax(np.exp(-(np.array(L2/100)-np.min(np.array(L2/100)))))]\n",
    "    \n",
    "    return z_list, L2, redsh\n",
    "    #return redsh"
   ]
  },
  {
   "cell_type": "code",
   "execution_count": 146,
   "metadata": {
    "collapsed": false
   },
   "outputs": [
    {
     "name": "stdout",
     "output_type": "stream",
     "text": [
      "4.2\n"
     ]
    }
   ],
   "source": [
    "# Redshift and chi2 for any object\n",
    "z, chii, red = get_z(int(10771))\n",
    "print(red)\n",
    "#plt.close()\n",
    "#plt.plot(z, np.exp(-(np.array(chii/10000)-np.min(np.array(chii/10000)))))\n",
    "#plt.title(\"Versus 1\")\n",
    "#plt.savefig(\"good.pdf\", format = \"pdf\")"
   ]
  },
  {
   "cell_type": "code",
   "execution_count": 21,
   "metadata": {
    "collapsed": false
   },
   "outputs": [
    {
     "data": {
      "text/plain": [
       "22870.966593836303"
      ]
     },
     "execution_count": 21,
     "metadata": {},
     "output_type": "execute_result"
    }
   ],
   "source": [
    "np.max(np.array(chii))"
   ]
  },
  {
   "cell_type": "code",
   "execution_count": null,
   "metadata": {
    "collapsed": true
   },
   "outputs": [],
   "source": []
  },
  {
   "cell_type": "code",
   "execution_count": null,
   "metadata": {
    "collapsed": true
   },
   "outputs": [],
   "source": []
  },
  {
   "cell_type": "code",
   "execution_count": null,
   "metadata": {
    "collapsed": true
   },
   "outputs": [],
   "source": []
  },
  {
   "cell_type": "code",
   "execution_count": null,
   "metadata": {
    "collapsed": true
   },
   "outputs": [],
   "source": []
  },
  {
   "cell_type": "code",
   "execution_count": null,
   "metadata": {
    "collapsed": true
   },
   "outputs": [],
   "source": []
  },
  {
   "cell_type": "code",
   "execution_count": null,
   "metadata": {
    "collapsed": false
   },
   "outputs": [],
   "source": [
    "f = 0\n",
    "crit = []\n",
    "z_spec = []\n",
    "for i in range (len(main_cat)):\n",
    "    if  1 < main_cat[i,120] < 3:\n",
    "        f+=1\n",
    "        z_spec.append(main_cat[i,120])\n",
    "        crit.append(int(main_cat[i,0]))\n",
    "print(f)"
   ]
  },
  {
   "cell_type": "code",
   "execution_count": null,
   "metadata": {
    "collapsed": false
   },
   "outputs": [],
   "source": [
    "z_my = []\n",
    "h=0\n",
    "for i in crit:\n",
    "    red = get_z(i)\n",
    "    z_my.append(red)\n",
    "    h+=1\n",
    "    if h % 10 == 0:\n",
    "        print(\"Every now and then = \" + str(h))"
   ]
  },
  {
   "cell_type": "code",
   "execution_count": null,
   "metadata": {
    "collapsed": false
   },
   "outputs": [],
   "source": [
    "plt.close()\n",
    "ax = plt.subplot(111)\n",
    "ax.plot(z_spec, np.array(z_my), \"o\", color = 'magenta')\n",
    "ax.set_xlabel(\"z_spec\", fontsize=17)\n",
    "ax.set_ylabel(\"z_my\", fontsize=17)\n",
    "plt.text(max(z_my)-1.2, min(z_my),  'N_obj = ' + str(len(z_spec)),\n",
    "                      style='italic', bbox={'facecolor':'red', 'alpha':1.2, 'pad':2})  \n",
    "ax.set_xlim(0.5, 7)\n",
    "ax.set_ylim(0.5, 7)\n",
    "plt.plot([0.5, 1, 2, 3, 4, 5, 6, 7, 8], [0.5, 1, 2, 3, 4, 5, 6, 7, 8], color = \"blue\", lw = 1)\n",
    "\n",
    "#plt.legend(loc='lower right')\n",
    "plt.title(\"Versus 2\")\n",
    "plt.savefig(\"Versus 2_cut.pdf\", format = \"pdf\")"
   ]
  },
  {
   "cell_type": "code",
   "execution_count": null,
   "metadata": {
    "collapsed": false
   },
   "outputs": [],
   "source": [
    "z_my"
   ]
  },
  {
   "cell_type": "code",
   "execution_count": null,
   "metadata": {
    "collapsed": false
   },
   "outputs": [],
   "source": [
    "len(z_my)"
   ]
  },
  {
   "cell_type": "code",
   "execution_count": null,
   "metadata": {
    "collapsed": true
   },
   "outputs": [],
   "source": []
  },
  {
   "cell_type": "code",
   "execution_count": null,
   "metadata": {
    "collapsed": true
   },
   "outputs": [],
   "source": []
  },
  {
   "cell_type": "code",
   "execution_count": null,
   "metadata": {
    "collapsed": true
   },
   "outputs": [],
   "source": []
  }
 ],
 "metadata": {
  "kernelspec": {
   "display_name": "Python [Root]",
   "language": "python",
   "name": "Python [Root]"
  },
  "language_info": {
   "codemirror_mode": {
    "name": "ipython",
    "version": 3
   },
   "file_extension": ".py",
   "mimetype": "text/x-python",
   "name": "python",
   "nbconvert_exporter": "python",
   "pygments_lexer": "ipython3",
   "version": "3.5.1"
  }
 },
 "nbformat": 4,
 "nbformat_minor": 2
}
